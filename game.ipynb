{
 "cells": [
  {
   "cell_type": "code",
   "execution_count": 20,
   "metadata": {},
   "outputs": [
    {
     "name": "stderr",
     "output_type": "stream",
     "text": [
      "/tmp/ipykernel_9294/2768499959.py:5: ParserWarning: Falling back to the 'python' engine because the 'c' engine does not support regex separators (separators > 1 char and different from '\\s+' are interpreted as regex); you can avoid this warning by specifying engine='python'.\n",
      "  connections_txt = pd.read_csv('./connections-master.txt', sep='\\t+', header=None, index_col=0)\n"
     ]
    }
   ],
   "source": [
    "import tkinter as tk\n",
    "import numpy as np\n",
    "import pandas as pd\n",
    "\n",
    "connections_txt = pd.read_csv('./connections-master.txt', sep='\\t+', header=None, index_col=0)\n",
    "positions = connections_txt[1].values\n",
    "positions = [eval(x) for x in positions]\n",
    "\n",
    "connections = np.zeros([36, 36])\n",
    "occupied = connections_txt[1].values\n",
    "for from_point in range(36):\n",
    "    connected_points = [int(i) for i in connections_txt[2][from_point].split(',')]\n",
    "    for to_point in connected_points:\n",
    "        connections[from_point, to_point] = 1"
   ]
  },
  {
   "cell_type": "code",
   "execution_count": 21,
   "metadata": {},
   "outputs": [],
   "source": [
    "mod_positions = []\n",
    "for i in positions:\n",
    "    xi, yi = i\n",
    "    mod_positions.append((xi*100 +650, yi*100 +750))"
   ]
  },
  {
   "cell_type": "code",
   "execution_count": 22,
   "metadata": {},
   "outputs": [],
   "source": [
    "mod_positions = np.array(mod_positions)"
   ]
  },
  {
   "cell_type": "code",
   "execution_count": 23,
   "metadata": {},
   "outputs": [
    {
     "data": {
      "text/plain": [
       "(1250.0, 1450.0)"
      ]
     },
     "execution_count": 23,
     "metadata": {},
     "output_type": "execute_result"
    }
   ],
   "source": [
    "max(mod_positions[:, 0]), max(mod_positions[:, 1])"
   ]
  },
  {
   "cell_type": "code",
   "execution_count": 24,
   "metadata": {},
   "outputs": [],
   "source": [
    "root = tk.Tk()\n",
    "root.title(\"P-Checkers\")\n",
    "root.geometry(\"1400x1600\")\n",
    "\n",
    "GRID_SIZE = 14\n",
    "occupation = np.zeros(36)\n",
    "occupation[:11] = 1\n",
    "occupation[-11:] = 2\n",
    "\n",
    "for i in range(36):\n",
    "    x, y = mod_positions[i]\n",
    "    if occupation[i] == 1:\n",
    "        color = 'red'\n",
    "    elif occupation[i] == 2:\n",
    "        color = 'blue'\n",
    "    else:\n",
    "        color = 'white'\n",
    "    tk.Label(root, text=str(i), bg=color).grid(row=int(1450-y), column=int(x))\n"
   ]
  },
  {
   "cell_type": "code",
   "execution_count": 25,
   "metadata": {},
   "outputs": [],
   "source": [
    "root.mainloop()"
   ]
  },
  {
   "cell_type": "code",
   "execution_count": null,
   "metadata": {},
   "outputs": [],
   "source": []
  }
 ],
 "metadata": {
  "kernelspec": {
   "display_name": "Python 3",
   "language": "python",
   "name": "python3"
  },
  "language_info": {
   "codemirror_mode": {
    "name": "ipython",
    "version": 3
   },
   "file_extension": ".py",
   "mimetype": "text/x-python",
   "name": "python",
   "nbconvert_exporter": "python",
   "pygments_lexer": "ipython3",
   "version": "3.10.12"
  }
 },
 "nbformat": 4,
 "nbformat_minor": 2
}
